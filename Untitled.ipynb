{
 "cells": [
  {
   "cell_type": "code",
   "execution_count": 232,
   "metadata": {},
   "outputs": [
    {
     "name": "stdout",
     "output_type": "stream",
     "text": [
      "How many pages would you like to parse?\n",
      "1\n",
      "Listings parsing:\n"
     ]
    },
    {
     "data": {
      "application/vnd.jupyter.widget-view+json": {
       "model_id": "aee90e34395b4ba59fb3327a398b489b",
       "version_major": 2,
       "version_minor": 0
      },
      "text/plain": [
       "HBox(children=(FloatProgress(value=0.0, max=1.0), HTML(value='')))"
      ]
     },
     "metadata": {},
     "output_type": "display_data"
    },
    {
     "name": "stdout",
     "output_type": "stream",
     "text": [
      "\n",
      "Listings parsing completed!\n",
      "Pages parsing:\n"
     ]
    },
    {
     "data": {
      "application/vnd.jupyter.widget-view+json": {
       "model_id": "b676d0d1946047ddad28b9c7ade06f50",
       "version_major": 2,
       "version_minor": 0
      },
      "text/plain": [
       "HBox(children=(FloatProgress(value=1.0, bar_style='info', max=1.0), HTML(value='')))"
      ]
     },
     "metadata": {},
     "output_type": "display_data"
    },
    {
     "name": "stdout",
     "output_type": "stream",
     "text": [
      "\n",
      "Pages parsing completed!\n"
     ]
    }
   ],
   "source": [
    "from bs4 import BeautifulSoup as bs\n",
    "import requests\n",
    "from requests_html import HTMLSession\n",
    "from tqdm.auto import tqdm\n",
    "import json\n",
    "import logging\n",
    "import os, shutil\n",
    "from multiprocessing import Pool, Queue\n",
    "\n",
    "url = 'https://gg.deals/games/'\n",
    "page_num = 1\n",
    "\n",
    "def get_listing(page_num):\n",
    "    host = 'https://gg.deals'\n",
    "    listing = '/games'\n",
    "    url = host + listing\n",
    "    session = HTMLSession()\n",
    "    for _ in range(3):\n",
    "        page = session.get(url, params={'sort': 'metascore', 'type': '1', 'page': page_num}, timeout=20)\n",
    "        if page.status_code == 200:\n",
    "            break\n",
    "    if page.status_code != 200:\n",
    "        logging.error(\"Failed to parse! \", url)\n",
    "        return []\n",
    "    page = list(map(lambda x: host + x.attrs['href'], page.html.find('.game-info-title')))\n",
    "    return page\n",
    "\n",
    "def get_page(url):\n",
    "    game = {}\n",
    "    game['url'] = url\n",
    "\n",
    "    session = HTMLSession()\n",
    "    for _ in range(3):\n",
    "        page = session.get(url, timeout=20)\n",
    "        if page.status_code == 200:\n",
    "            break\n",
    "    if page.status_code != 200:\n",
    "        logging.error(\"Failed to parse! \", url)\n",
    "        return None\n",
    "    html = page.html\n",
    "    game['title'] = html.find('.breadcrumbs-list')[0].find('span')[-1].text\n",
    "    game['official_store_price'] = html.find('.game-info-price-col')[0].find('span')[1].text\n",
    "    game['keyshop_price'] = html.find('.game-info-price-col')[1].find('span')[1].text\n",
    "    game['img'] = html.find('.game-info-image-wrapper')[0].find('img')[0].attrs['src']\n",
    "\n",
    "    widget = html.find('.game-info-widget')[0]\n",
    "    info = widget.find('.game-info-details-content')\n",
    "    if len(info) > 0:\n",
    "        game['release_date'] = info[0].text\n",
    "    if len(info) > 1:\n",
    "        game['developer'] = info[1].text\n",
    "\n",
    "    if len(info) > 2:\n",
    "        reviews = info[2].find('span')\n",
    "    else:\n",
    "        reviews = []\n",
    "    if len(reviews) > 0:\n",
    "        game['metascore'] = reviews[0].text\n",
    "    if len(reviews) > 1:\n",
    "        game['user_score'] = reviews[1].text\n",
    "    if len(reviews) > 2:\n",
    "        game['review'] = reviews[2].text\n",
    "\n",
    "    genres = widget.find('.game-info-genres')\n",
    "    if len(genres) > 0:\n",
    "        game['genres'] = list(map(lambda x: x.text, genres[0].find('a')))\n",
    "    tags = widget.find('.game-info-tags')\n",
    "    if len(tags) > 0:\n",
    "        game['tags'] = list(map(lambda x: x.text, tags[0].find('a')))\n",
    "    if len(tags) > 1:\n",
    "        game['features'] = list(map(lambda x: x.text,tags[1].find('a')))\n",
    "    platforms = widget.find('.game-info-details-section')\n",
    "    if len(platforms) > 1:\n",
    "        game['platforms'] = list(map(lambda x: x.attrs['title'], platforms[1].find('svg')))\n",
    "\n",
    "    info = html.find('.game-info-actions')[0]\n",
    "    info = list(map(lambda x: x.text, info.find('.count')[::2]))\n",
    "    if len(info) > 0:\n",
    "        game['wishlist_count'] = info[0]\n",
    "    if len(info) > 1:\n",
    "        game['alert_count'] = info[1]\n",
    "    if len(info) > 2:\n",
    "        game['owners_count'] = info[2]\n",
    "\n",
    "    shops = html.find('.tab-menu-section')\n",
    "    offers = list(filter(lambda x: x.attrs['id'] == 'offers', shops))\n",
    "    if len(offers) > 0:\n",
    "        offers = offers[0].find('.offer-section')\n",
    "        if len(offers) > 0:\n",
    "            game['official_shops'] = list(offers[0].absolute_links)\n",
    "        if len(offers) > 1:\n",
    "            game['keyshops'] = list(offers[1].absolute_links)\n",
    "    dlcs = list(filter(lambda x: x.attrs['id'] == 'game-dlcs', shops))\n",
    "    if len(dlcs) > 0:\n",
    "        dlcs = dlcs[0].find('.full-link')\n",
    "        if len(dlcs) > 0:\n",
    "            game['dlcs'] = list(dlcs[0].absolute_links)\n",
    "    packs = list(filter(lambda x: x.attrs['id'] == 'game-packs', shops))\n",
    "    if len(packs) > 0:\n",
    "        game['packs'] = list(packs[0].absolute_links)\n",
    "\n",
    "    return game\n",
    "\n",
    "def main():\n",
    "    logging.basicConfig(filename=\"event.log\", level=logging.INFO, filemode=\"w\")\n",
    "    print(\"How many pages would you like to parse?\")\n",
    "    page_num = int(input())\n",
    "    \n",
    "    urls = []\n",
    "    print(\"Listings parsing:\")\n",
    "    for num in tqdm(range(1, page_num + 1)):\n",
    "        urls += get_listing(num)\n",
    "    print(\"Listings parsing completed!\")\n",
    "    \n",
    "    print(\"Pages parsing:\")\n",
    "    parsed = []\n",
    "    with Pool(16) as pool:\n",
    "        for page in tqdm(pool.imap_unordered(get_page, urls)):\n",
    "            parsed.append(page)\n",
    "    print(\"Pages parsing completed!\")\n",
    "    with open('result.json', 'w') as fp:\n",
    "        for page in parsed:\n",
    "            json.dump(page, fp)\n",
    "    return\n",
    "    \n",
    "main()"
   ]
  }
 ],
 "metadata": {
  "kernelspec": {
   "display_name": "Python [conda env:root] *",
   "language": "python",
   "name": "conda-root-py"
  },
  "language_info": {
   "codemirror_mode": {
    "name": "ipython",
    "version": 3
   },
   "file_extension": ".py",
   "mimetype": "text/x-python",
   "name": "python",
   "nbconvert_exporter": "python",
   "pygments_lexer": "ipython3",
   "version": "3.7.6"
  }
 },
 "nbformat": 4,
 "nbformat_minor": 4
}
